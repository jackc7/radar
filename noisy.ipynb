{
 "cells": [
  {
   "cell_type": "code",
   "execution_count": 2,
   "metadata": {},
   "outputs": [],
   "source": [
    "import numpy as np\n",
    "from scipy import signal, misc\n",
    "from scipy.fft import fft, fftfreq, ifft\n",
    "import matplotlib.pyplot as plt\n",
    "from scipy import signal\n",
    "import time\n",
    "import serial\n",
    "\n"
   ]
  },
  {
   "cell_type": "code",
   "execution_count": null,
   "metadata": {},
   "outputs": [],
   "source": [
    "def read():\n",
    "    global ser\n",
    "    with open(\"output.txt\", 'wb') as f:\n",
    "        f.write(ser.read(1000))\n",
    "ser = serial.Serial('COM3', 115200)  # open serial port\n"
   ]
  }
 ],
 "metadata": {
  "kernelspec": {
   "display_name": "Python 3.9.7 ('base')",
   "language": "python",
   "name": "python3"
  },
  "language_info": {
   "codemirror_mode": {
    "name": "ipython",
    "version": 3
   },
   "file_extension": ".py",
   "mimetype": "text/x-python",
   "name": "python",
   "nbconvert_exporter": "python",
   "pygments_lexer": "ipython3",
   "version": "3.9.7"
  },
  "orig_nbformat": 4,
  "vscode": {
   "interpreter": {
    "hash": "f4b68a2f12ac3c1f7d7a15640bcdd128a30437ff541dca8628c60bf74e1bc7b4"
   }
  }
 },
 "nbformat": 4,
 "nbformat_minor": 2
}
